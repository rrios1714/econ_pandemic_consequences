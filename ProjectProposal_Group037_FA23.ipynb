{
 "cells": [
  {
   "attachments": {},
   "cell_type": "markdown",
   "metadata": {},
   "source": [
    "# COGS 108 - Project Proposal"
   ]
  },
  {
   "attachments": {},
   "cell_type": "markdown",
   "metadata": {},
   "source": [
    "# Names\n",
    "\n",
    "- Kenneth Hidayat\n",
    "- Ruby Rios Ramirez\n",
    "- Jeremy Abondano\n",
    "- Thu Mai\n",
    "- Claire Liu"
   ]
  },
  {
   "attachments": {},
   "cell_type": "markdown",
   "metadata": {},
   "source": [
    "# Research Question"
   ]
  },
  {
   "attachments": {},
   "cell_type": "markdown",
   "metadata": {},
   "source": [
    "-  Include a specific, clear data science question.\n",
    "-  Make sure what you're measuring (variables) to answer the question is clear\n",
    "\n",
    "What is your research question? Include the specific question you're setting out to answer. This question should be specific, answerable with data, and clear. A general question with specific subquestions is permitted. (1-2 sentences)\n",
    "\n"
   ]
  },
  {
   "attachments": {},
   "cell_type": "markdown",
   "metadata": {},
   "source": [
    "What is the impact of educational policies on the increase in crime rates in San Diego, California, from 2020 to 2022? Is there a discernible correlation between specific crime rates, such as violent crimes, and San Diego school districts during the pandemic period?"
   ]
  },
  {
   "attachments": {},
   "cell_type": "markdown",
   "metadata": {},
   "source": [
    "## Background and Prior Work"
   ]
  },
  {
   "attachments": {},
   "cell_type": "markdown",
   "metadata": {},
   "source": [
    "\n",
    "- Include a general introduction to your topic\n",
    "- Include explanation of what work has been done previously\n",
    "- Include citations or links to previous work\n",
    "\n",
    "This section will present the background and context of your topic and question in a few paragraphs. Include a general introduction to your topic and then describe what information you currently know about the topic after doing your initial research. Include references to other projects who have asked similar questions or approached similar problems. Explain what others have learned in their projects.\n",
    "\n",
    "Find some relevant prior work, and reference those sources, summarizing what each did and what they learned. Even if you think you have a totally novel question, find the most similar prior work that you can and discuss how it relates to your project.\n",
    "\n",
    "References can be research publications, but they need not be. Blogs, GitHub repositories, company websites, etc., are all viable references if they are relevant to your project. It must be clear which information comes from which references. (2-3 paragraphs, including at least 2 references)\n",
    "\n",
    " **Use inline citation through HTML footnotes to specify which references support which statements** \n",
    "\n",
    "For example: After government genocide in the 20th century, real birds were replaced with surveillance drones designed to look just like birds.<a name=\"cite_ref-1\"></a>[<sup>1</sup>](#cite_note-1) Use a minimum of 2 or 3 citations, but we prefer more.<a name=\"cite_ref-2\"></a>[<sup>2</sup>](#cite_note-2) You need enough to fully explain and back up important facts. \n",
    "\n",
    "Note that if you click a footnote number in the paragraph above it will transport you to the proper entry in the footnotes list below.  And if you click the ^ in the footnote entry, it will return you to the place in the main text where the footnote is made.\n",
    "\n",
    "To understand the HTML here, `<a name=\"#...\"> </a>` is a tag that allows you produce a named reference for a given location.  Markdown has the construciton `[text with hyperlink](#named reference)` that will produce a clickable link that transports you the named reference.\n",
    "\n",
    "1. <a name=\"cite_note-1\"></a> [^](#cite_ref-1) Lorenz, T. (9 Dec 2021) Birds Aren’t Real, or Are They? Inside a Gen Z Conspiracy Theory. *The New York Times*. https://www.nytimes.com/2021/12/09/technology/birds-arent-real-gen-z-misinformation.html \n",
    "2. <a name=\"cite_note-2\"></a> [^](#cite_ref-2) Also refs should be important to the background, not some randomly chosen vaguely related stuff. Include a web link if possible in refs as above.\n",
    "\n",
    "\n",
    "\n"
   ]
  },
  {
   "attachments": {},
   "cell_type": "markdown",
   "metadata": {},
   "source": [
    "Our Group's Project Proposal Background and Prior Work: \n",
    "\n",
    "In recent years, the consequences of pandemic aren't just significantly lower the living and working conditions of residents but also affect the crime rate in the whole country. Living in San Diego, California, our group members have witnessed continuous alerts on our school district about potential or suspicious behaviors including burlary, robbery, anonymous threats, harrassment and more on our campus or neighbor areas, specifically some of us observed scary individuals appear at the Blue Line station multiple times. Hence, we are curious on whether there is a potential connection between those concerned actions and changes in our educational policy recently because there must be some reasons that reveal the growth of unlawful behaviors in the local area versus the recent modifications in academic regulations. \n",
    "\n",
    "According to the Public Policy Institute of California, the study reports gather datas from four cities in California including Log Angeles, Oakland, San Francisco and San Diego to indicate the rising in violent crime rates in 2021, and in the scope of San Diego, the violent crimes increased by 8.1%, \"the property crime increase was 6.1%\", nobtably \"Vehicle theft also rose by 10%\" (Meyer)[1], obviously, we found some evidence on the pandemic crime trends, our investigation aims to clarify whether education plays a role in the article outcomes, understanding these can lead to potential contributions on mitigating those issues in the upcoming years.\n",
    "\n",
    "According to the  Center for Public Integrity, there are disparities that occur in certain groups of student that represent unequal treatment across several campuses. In particular, \"at the San Diego Unified School District, Black students comprised about 8% of enrollment but made up nearly 19% of referrals. Students with disabilities made up more than 30% of referrals but only 14% of the population\" (Bowman)[2], it illustrates the important irregularity that impact these group of students in their way of receiving education. This could be a reason for the inclusion of students in the broader crime rates in San Diego, and some school system may be the factor and need to be reconsider to provide fair study environment. \n",
    "\n",
    "Another additional information is collected from 2003 to 2018 in the article \"Education and Crime across America: Inequity’s Cost\" provides us the insight of the correlation between education spending and student safety. One of the conclusions after examination is the more investment putting of education, mentioned in the article, extra 1000$ difference is associated with 3% decrease in violent crimes, but 10% increase in property crime.[3] Hence, the cost of school is also one of the educational policies that make a visible connection to the changes to certain crime probabilities. Learning from this analysis in the early 21s years, there appears to be a potential in correlation educational policies towards unlawful behavior frequency in San Diego, moreover, it possibly continue to be the effect on later 2020 to 2022. \n",
    "\n",
    "Overall, one of the statistics we found could be utilized is the numeric data of changes in different type of crimes from 2019 to by The City of San Diego Police Department, the violent crimes went from 5,215 in 2019, to 5,303 in 2020 and 5,875 in 2021 which made up 10.8% increase from 2020 to 2021 which is relatively high that provokes attention from all possible aspects, and our group will focus on educational policies.[4]\n",
    "\n",
    "\n",
    "References:\n",
    "\n",
    "1. https://fox5sandiego.com/news/local-news/study-san-diego-california-crime-rates-rise-back-from-pandemic-lows/\n",
    "2. https://inewsource.org/2021/09/27/policing-in-san-diego-schools/\n",
    "3. https://www.mdpi.com/2076-0760/10/8/283\n",
    "4. https://www.sandiego.gov/sites/default/files/20220308_2021_crime_stats.pdf"
   ]
  },
  {
   "attachments": {},
   "cell_type": "markdown",
   "metadata": {},
   "source": [
    "# Hypothesis\n"
   ]
  },
  {
   "attachments": {},
   "cell_type": "markdown",
   "metadata": {},
   "source": [
    "\n",
    "- Include your team's hypothesis\n",
    "- Ensure that this hypothesis is clear to readers\n",
    "- Explain why you think this will be the outcome (what was your thinking?)\n",
    "\n",
    "What is your main hypothesis/predictions about what the answer to your question is? Briefly explain your thinking. (2-3 sentences)"
   ]
  },
  {
   "attachments": {},
   "cell_type": "markdown",
   "metadata": {},
   "source": [
    "We predict that recent violent crimes rate in San Diego, in particular from 2020 to 2022, is influenced by the relevant modifications of academic policies of local school districts. We expect that some information we found such as inequity, school costs are parts of the frequency of violent crimes appear in San Diego, California. We think the public safety should be prioritized to successfully receive adequate and comfortable study in school. So we expect that as inequity is mitigated, school costs are fairly distributed, violent crimes decrease accordingly.\n",
    "\n",
    "Another observation that further supports this hypothesis is the crime rate in the city of Danville. According to the site PropertyHub, Danville is the top safest town in the state of California. The average crime rate for Danville is of 78% yearly, a significant difference to California's average crime rate rising up to 392% reaching the national average. When looking at the percentage of the population who pursued higher education 32.8% of the population has a Bachelor's or higher degree according to the U.S. Census completed in 2022. \n"
   ]
  },
  {
   "attachments": {},
   "cell_type": "markdown",
   "metadata": {},
   "source": [
    "# Data"
   ]
  },
  {
   "attachments": {},
   "cell_type": "markdown",
   "metadata": {},
   "source": [
    "1. Explain what the **ideal** dataset you would want to answer this question. (This should include: What variables? How many observations? Who/what/how would these data be collected? How would these data be stored/organized?)\n",
    "\n",
    "Our ideal dataset would consist of large datasets from across California regarding crime rates, separated into regions or counties. When analyzing the educational status of people in such regions, we will reference search for a database with numbers of what level of education has been completed the most in the region. We hope that we find datasets that are quantative with the number of people pursuing certain educational degrees and the number of crimes commited. Having access to categorical data would also be key, specifically to know the types of degrees completed and what crimes are commited in county/region to see if we can identify a relationship. \n",
    "\n",
    "2. Search for potential **real** datasets that could provide you with something useful for this project.  You do not have to find every piece of data you will use, but you do need to have demonstrated some idea that (a) this data is gettable and (b) that this data may be different from what your ideal is\n",
    "\n",
    "A potential data set we found was from the Federal Bureau of Investigation Crime Data Explorer: https://cde.ucr.cjis.gov/LATEST/webapp/#/pages/explorer/crime/crime-trend. This data set holds data about different crimes commited, data since 1985 to 2022. It is a large dataset with 951,270 recorded data points.\n",
    " Another potential data set we found to begin learning about the population's education is through California's Department of Public Health Educational Attaintment Database. https://data.chhs.ca.gov/dataset/educational-attainment. This database contains population data with a focus on age group specifically 25 years old, and succesful completion of a bachelors, all organized by California counties. This dataset was last updated October 23, 2023 and contains data up to 2020. \n"
   ]
  },
  {
   "attachments": {},
   "cell_type": "markdown",
   "metadata": {},
   "source": [
    "# Ethics & Privacy"
   ]
  },
  {
   "attachments": {},
   "cell_type": "markdown",
   "metadata": {},
   "source": [
    "- Thoughtful discussion of ethical concerns included\n",
    "- Ethical concerns consider the whole data science process (question asked, data collected, data being used, the bias in data, analysis, post-analysis, etc.)\n",
    "- How your group handled bias/ethical concerns clearly described\n",
    "\n",
    "Acknowledge and address any ethics & privacy related issues of your question(s), proposed dataset(s), and/or analyses. Use the information provided in lecture to guide your group discussion and thinking. If you need further guidance, check out [Deon's Ethics Checklist](http://deon.drivendata.org/#data-science-ethics-checklist). In particular:\n",
    "\n",
    "- Are there any biases/privacy/terms of use issues with the data you propsed?:\n",
    "- Are there potential biases in your dataset(s), in terms of who it composes, and how it was collected, that may be problematic in terms of it allowing for equitable analysis? (For example, does your data exclude particular populations, or is it likely to reflect particular human biases in a way that could be a problem?)\n",
    "- How will you set out to detect these specific biases before, during, and after/when communicating your analysis?\n",
    "- Are there any other issues related to your topic area, data, and/or analyses that are potentially problematic in terms of data privacy and equitable impact?\n",
    "- How will you handle issues you identified?\n",
    "\n",
    "Our concerns: \n",
    " Yes, we believe we may run into some biases when collecting and analyzing crime rate and education status data. These biases may be stem from institionlized bias from either perspective. Although we are aware of these biases, we are aware that they may run into multiple biases when searching for these datasets. Some strageties we hope to use to navigate this is to find data from neutral organizations and do some research into the biases we are already expecting. The research we do will focus on applying unbiased analysis throughout our inquiry and what unbiased data collection looks like. If adjustments must be made to any component of our project to ensure the reduction of bias, we will do so accordingly. In addition, we would also seek either Professorr Jason, TA's, and/or IA's about our process to receive feedback if at any point we have must re-examine our strageties. \n",
    "\n",
    " We are also aware of some privacy concerns, specifically how to ensure that all our data is as anonymized as possible. This is very important when analyzing incident report data detailing identifiable data anyone involved in the incident. To address this, we will collect databases and assess the level of privacy disclosed. If the level is alarming, we will simply not work with that dataset to ensure we protect the privacy of those whose information was collected. We did discuss possibly applying de-identifying procedures but we would use that only if we are absolutely struggling to find datasets to answer our question.\n",
    "\n"
   ]
  },
  {
   "attachments": {},
   "cell_type": "markdown",
   "metadata": {},
   "source": [
    "# Team Expectations "
   ]
  },
  {
   "attachments": {},
   "cell_type": "markdown",
   "metadata": {},
   "source": [
    "\n",
    "Read over the [COGS108 Team Policies](https://github.com/COGS108/Projects/blob/master/COGS108_TeamPolicies.md) individually. Then, include your group’s expectations of one another for successful completion of your COGS108 project below. Discuss and agree on what all of your expectations are. Discuss how your team will communicate throughout the quarter and consider how you will communicate respectfully should conflicts arise. By including each member’s name above and by adding their name to the submission, you are indicating that you have read the COGS108 Team Policies, accept your team’s expectations below, and have every intention to fulfill them. These expectations are for your team’s use and benefit — they won’t be graded for their details.\n",
    "\n",
    "* * 1. Have all team members show up to meetings at the scheduled timeline\n",
    "* * 2. Have equal input into the project, including ideas, discussions, and tasks\n",
    "* * 3. Maintain good communication with each other, comfortable to express thoughts and opinions\n",
    "* * 4. Flexibility, respect of the members' status in difficult situations (such as exam, personal conditions, ect.)\n",
    "* * 5. Regular check-in is neccessary to ensure members are at the same page\n",
    "* * 6. Start early if possible and have progress a few days before the deadlines for each check point to ensure the work quality\n",
    "* * 7. Prioritize the work done, open to resolve conflicts in a friendly way"
   ]
  },
  {
   "attachments": {},
   "cell_type": "markdown",
   "metadata": {},
   "source": [
    "# Project Timeline Proposal"
   ]
  },
  {
   "attachments": {},
   "cell_type": "markdown",
   "metadata": {},
   "source": [
    "Specify your team's specific project timeline. An example timeline has been provided. Changes the dates, times, names, and details to fit your group's plan.\n",
    "\n",
    "If you think you will need any special resources or training outside what we have covered in COGS 108 to solve your problem, then your proposal should state these clearly. For example, if you have selected a problem that involves implementing multiple neural networks, please state this so we can make sure you know what you’re doing and so we can point you to resources you will need to implement your project. Note that you are not required to use outside methods.\n",
    "\n",
    "\n",
    "\n",
    "| Meeting Date  | Meeting Time| Completed Before Meeting  | Discuss at Meeting |\n",
    "|---|---|---|---|\n",
    "| 10/24  |  6 PM | Read & Think about COGS 108 expectations; brainstorm topics/questions  | Determine best form of communication; Discuss and decide on final project topic; discuss hypothesis; begin background research | \n",
    "| 10/31  |  6 PM |  Do background research on topic | Discuss ideal dataset(s) and ethics; draft project proposal | \n",
    "| 11/07  | 6 PM  | Edit, finalize, and submit proposal; Search for datasets  | Discuss Wrangling and possible analytical approaches; Assign group members to lead each specific part   |\n",
    "| 11/14  | 6 PM  | Import & Wrangle Data (Ant Man); EDA (Hulk) | Review/Edit wrangling/EDA; Discuss Analysis Plan   |\n",
    "| 11/21  | 6 PM  | Finalize wrangling/EDA; Begin Analysis (Iron Man; Thor) | Discuss/edit Analysis; Complete project check-in |\n",
    "| 11/27  | 6 PM  | Complete analysis; Draft results/conclusion/discussion (Wasp)| Discuss/edit full project |\n",
    "| 12/13  | Before 11:59 PM  | NA | Turn in Final Project & Group Project Surveys |"
   ]
  },
  {
   "attachments": {},
   "cell_type": "markdown",
   "metadata": {},
   "source": []
  }
 ],
 "metadata": {
  "kernelspec": {
   "display_name": "python3",
   "language": "python",
   "name": "python3"
  },
  "language_info": {
   "codemirror_mode": {
    "name": "ipython",
    "version": 3
   },
   "file_extension": ".py",
   "mimetype": "text/x-python",
   "name": "python",
   "nbconvert_exporter": "python",
   "pygments_lexer": "ipython3",
   "version": "3.11.4"
  }
 },
 "nbformat": 4,
 "nbformat_minor": 2
}
